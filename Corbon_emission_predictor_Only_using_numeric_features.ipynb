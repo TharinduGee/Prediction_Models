{
  "nbformat": 4,
  "nbformat_minor": 0,
  "metadata": {
    "colab": {
      "name": "Corbon_emission_predictor_Only using numeric features.ipynb",
      "provenance": [],
      "authorship_tag": "ABX9TyO+JZQnTUh/mIVT8zNQFFZ8",
      "include_colab_link": true
    },
    "kernelspec": {
      "name": "python3",
      "display_name": "Python 3"
    },
    "language_info": {
      "name": "python"
    },
    "accelerator": "GPU",
    "gpuClass": "standard"
  },
  "cells": [
    {
      "cell_type": "markdown",
      "metadata": {
        "id": "view-in-github",
        "colab_type": "text"
      },
      "source": [
        "<a href=\"https://colab.research.google.com/github/TharinduGee/Prediction_Models/blob/replaced-null-by-0-for-targets/Corbon_emission_predictor_Only_using_numeric_features.ipynb\" target=\"_parent\"><img src=\"https://colab.research.google.com/assets/colab-badge.svg\" alt=\"Open In Colab\"/></a>"
      ]
    },
    {
      "cell_type": "markdown",
      "source": [],
      "metadata": {
        "id": "JU2YO65V7Rcd"
      }
    },
    {
      "cell_type": "code",
      "source": [
        "import numpy as np;\n",
        "import pandas as pd;\n",
        "import matplotlib.pyplot as plt;\n",
        "import tensorflow as tf;"
      ],
      "metadata": {
        "id": "rnpDqhPjULWs"
      },
      "execution_count": 130,
      "outputs": []
    },
    {
      "cell_type": "code",
      "source": [
        "record = pd.read_excel('https://www.epa.gov/system/files/documents/2022-04/22-tstcar-2022-04-15.xlsx');\n"
      ],
      "metadata": {
        "id": "35DYhh8-Uk3z"
      },
      "execution_count": 131,
      "outputs": []
    },
    {
      "cell_type": "code",
      "source": [
        "record = record.dropna(thresh = 3000, axis='columns')\n",
        "#record = record.fillna(method= 'ffill',axis='rows')\n"
      ],
      "metadata": {
        "id": "4GcZCFezpNt_"
      },
      "execution_count": 132,
      "outputs": []
    },
    {
      "cell_type": "code",
      "source": [
        "for column in record:\n",
        "  print(column , record[column].isna().sum())"
      ],
      "metadata": {
        "id": "C7Yaqz7PjbFm",
        "outputId": "3dcafd13-a087-41e8-b450-89836c78938f",
        "colab": {
          "base_uri": "https://localhost:8080/"
        }
      },
      "execution_count": 133,
      "outputs": [
        {
          "output_type": "stream",
          "name": "stdout",
          "text": [
            "Model Year 0\n",
            "Vehicle Manufacturer Name 0\n",
            "Veh Mfr Code 0\n",
            "Represented Test Veh Make 0\n",
            "Represented Test Veh Model 0\n",
            "Test Vehicle ID 0\n",
            "Test Veh Configuration # 0\n",
            "Test Veh Displacement (L) 0\n",
            "Actual Tested Testgroup 0\n",
            "Vehicle Type 0\n",
            "Rated Horsepower 0\n",
            "# of Cylinders and Rotors 264\n",
            "Engine Code 0\n",
            "Tested Transmission Type Code 0\n",
            "Tested Transmission Type 0\n",
            "# of Gears 0\n",
            "Transmission Lockup? 0\n",
            "Drive System Code 0\n",
            "Drive System Description 0\n",
            "Transmission Overdrive Code 0\n",
            "Transmission Overdrive Desc 0\n",
            "Equivalent Test Weight (lbs.) 0\n",
            "Axle Ratio 0\n",
            "N/V Ratio 0\n",
            "Shift Indicator Light Use Cd 0\n",
            "Shift Indicator Light Use Desc 0\n",
            "Test Number 0\n",
            "Test Originator 0\n",
            "Analytically Derived FE? 0\n",
            "Test Procedure Cd 0\n",
            "Test Procedure Description 0\n",
            "Test Fuel Type Cd 0\n",
            "Test Fuel Type Description 0\n",
            "Test Category 0\n",
            "THC (g/mi) 799\n",
            "CO (g/mi) 783\n",
            "CO2 (g/mi) 369\n",
            "NOx (g/mi) 797\n",
            "CH4 (g/mi) 1078\n",
            "RND_ADJ_FE 121\n",
            "FE_UNIT 0\n",
            "DT-Inertia Work Ratio Rating 344\n",
            "DT-Absolute Speed Change Ratg 344\n",
            "DT-Energy Economy Rating 344\n",
            "Target Coef A (lbf) 0\n",
            "Target Coef B (lbf/mph) 0\n",
            "Target Coef C (lbf/mph**2) 0\n",
            "Set Coef A (lbf) 0\n",
            "Set Coef B (lbf/mph) 0\n",
            "Set Coef C (lbf/mph**2) 0\n",
            "Aftertreatment Device Cd 264\n",
            "Aftertreatment Device Desc 264\n",
            "Police - Emergency Vehicle? 0\n",
            "Averaging Method Cd 0\n",
            "Averging Method Desc 0\n"
          ]
        }
      ]
    },
    {
      "cell_type": "code",
      "source": [
        "train_record = record.sample(frac = 0.8, random_state = 3)\n",
        "test_record = record.drop(train_record.index)\n",
        "\n"
      ],
      "metadata": {
        "id": "_4XtI63v0j9Y"
      },
      "execution_count": 134,
      "outputs": []
    },
    {
      "cell_type": "code",
      "source": [],
      "metadata": {
        "id": "YtHiDIJItCB0"
      },
      "execution_count": 134,
      "outputs": []
    },
    {
      "cell_type": "code",
      "source": [
        "numeric_feature_names = []\n",
        "for name in record.columns:\n",
        "  if record[name].dtype != object:\n",
        "    numeric_feature_names.append(name)\n",
        "\n",
        "numeric_feature_names"
      ],
      "metadata": {
        "id": "eyvfgv8Ax6jB",
        "colab": {
          "base_uri": "https://localhost:8080/"
        },
        "outputId": "6ca7ffa2-f27b-4478-f17a-4ab34cc6600d"
      },
      "execution_count": 135,
      "outputs": [
        {
          "output_type": "execute_result",
          "data": {
            "text/plain": [
              "['Model Year',\n",
              " 'Test Veh Configuration #',\n",
              " 'Test Veh Displacement (L)',\n",
              " 'Rated Horsepower',\n",
              " '# of Cylinders and Rotors',\n",
              " '# of Gears',\n",
              " 'Transmission Overdrive Code',\n",
              " 'Equivalent Test Weight (lbs.)',\n",
              " 'Axle Ratio',\n",
              " 'N/V Ratio',\n",
              " 'Shift Indicator Light Use Cd',\n",
              " 'Test Procedure Cd',\n",
              " 'Test Fuel Type Cd',\n",
              " 'THC (g/mi)',\n",
              " 'CO (g/mi)',\n",
              " 'CO2 (g/mi)',\n",
              " 'NOx (g/mi)',\n",
              " 'CH4 (g/mi)',\n",
              " 'RND_ADJ_FE',\n",
              " 'DT-Inertia Work Ratio Rating',\n",
              " 'DT-Absolute Speed Change Ratg',\n",
              " 'DT-Energy Economy Rating',\n",
              " 'Target Coef A (lbf)',\n",
              " 'Target Coef B (lbf/mph)',\n",
              " 'Target Coef C (lbf/mph**2)',\n",
              " 'Set Coef A (lbf)',\n",
              " 'Set Coef B (lbf/mph)',\n",
              " 'Set Coef C (lbf/mph**2)']"
            ]
          },
          "metadata": {},
          "execution_count": 135
        }
      ]
    },
    {
      "cell_type": "code",
      "source": [
        "train_numeric_features = train_record[numeric_feature_names]\n",
        "test_numeric_features = test_record[numeric_feature_names]\n"
      ],
      "metadata": {
        "id": "F_4o2WAj6Arl"
      },
      "execution_count": 136,
      "outputs": []
    },
    {
      "cell_type": "code",
      "source": [
        "train_numeric_features['# of Cylinders and Rotors']"
      ],
      "metadata": {
        "id": "8bqltjMchpXs",
        "outputId": "0b3d6c33-9f00-4d79-944c-a50013bd787e",
        "colab": {
          "base_uri": "https://localhost:8080/"
        }
      },
      "execution_count": 137,
      "outputs": [
        {
          "output_type": "execute_result",
          "data": {
            "text/plain": [
              "1806    8.0\n",
              "3525    6.0\n",
              "1240    6.0\n",
              "3129    8.0\n",
              "3729    4.0\n",
              "       ... \n",
              "3813    4.0\n",
              "2677    NaN\n",
              "4282    4.0\n",
              "225     4.0\n",
              "3535    6.0\n",
              "Name: # of Cylinders and Rotors, Length: 3518, dtype: float64"
            ]
          },
          "metadata": {},
          "execution_count": 137
        }
      ]
    },
    {
      "cell_type": "code",
      "source": [
        "\n",
        "train_target = train_numeric_features.pop(\"CO2 (g/mi)\")\n",
        "test_target = test_numeric_features.pop(\"CO2 (g/mi)\")\n",
        "train_numeric_features = train_numeric_features.fillna(method= 'ffill',axis='rows')\n",
        "test_numeric_features = test_numeric_features.fillna(method= 'ffill',axis='rows')\n",
        "#train_numeric_features.head()\n"
      ],
      "metadata": {
        "id": "yumst5qX1Qtw"
      },
      "execution_count": 138,
      "outputs": []
    },
    {
      "cell_type": "code",
      "source": [
        "train_record['# of Cylinders and Rotors']"
      ],
      "metadata": {
        "id": "w5TGE-WGyaUQ",
        "outputId": "72646f52-fe9c-4007-e8e9-c9bbe3d0c2a3",
        "colab": {
          "base_uri": "https://localhost:8080/"
        }
      },
      "execution_count": 139,
      "outputs": [
        {
          "output_type": "execute_result",
          "data": {
            "text/plain": [
              "1806    8.0\n",
              "3525    6.0\n",
              "1240    6.0\n",
              "3129    8.0\n",
              "3729    4.0\n",
              "       ... \n",
              "3813    4.0\n",
              "2677    NaN\n",
              "4282    4.0\n",
              "225     4.0\n",
              "3535    6.0\n",
              "Name: # of Cylinders and Rotors, Length: 3518, dtype: float64"
            ]
          },
          "metadata": {},
          "execution_count": 139
        }
      ]
    },
    {
      "cell_type": "code",
      "source": [
        "train_target.fillna(0,inplace = True)\n",
        "test_target.fillna(0,inplace = True)"
      ],
      "metadata": {
        "id": "BzYDbP_igPWh",
        "outputId": "6f39c000-242c-4800-adac-9fb1e1147608",
        "colab": {
          "base_uri": "https://localhost:8080/"
        }
      },
      "execution_count": 140,
      "outputs": [
        {
          "output_type": "stream",
          "name": "stderr",
          "text": [
            "/usr/local/lib/python3.8/dist-packages/pandas/core/generic.py:6392: SettingWithCopyWarning: \n",
            "A value is trying to be set on a copy of a slice from a DataFrame\n",
            "\n",
            "See the caveats in the documentation: https://pandas.pydata.org/pandas-docs/stable/user_guide/indexing.html#returning-a-view-versus-a-copy\n",
            "  return self._update_inplace(result)\n"
          ]
        }
      ]
    },
    {
      "cell_type": "code",
      "source": [
        "tf.convert_to_tensor(train_numeric_features)"
      ],
      "metadata": {
        "colab": {
          "base_uri": "https://localhost:8080/"
        },
        "id": "fXc3-uvqQ6qj",
        "outputId": "7abf2429-6b3a-408a-c48f-a03205bf5f48"
      },
      "execution_count": 141,
      "outputs": [
        {
          "output_type": "execute_result",
          "data": {
            "text/plain": [
              "<tf.Tensor: shape=(3518, 27), dtype=float64, numpy=\n",
              "array([[ 2.0220e+03,  0.0000e+00,  5.3000e+00, ..., -9.8100e+00,\n",
              "        -4.4000e-02,  3.5940e-02],\n",
              "       [ 2.0220e+03,  1.0000e+00,  3.4450e+00, ...,  1.8271e+01,\n",
              "        -8.5910e-02,  2.0445e-02],\n",
              "       [ 2.0220e+03,  0.0000e+00,  3.6000e+00, ...,  1.8260e+01,\n",
              "        -2.5130e-01,  2.5700e-02],\n",
              "       ...,\n",
              "       [ 2.0220e+03,  0.0000e+00,  1.9840e+00, ...,  6.8800e+00,\n",
              "        -1.5200e-01,  2.2130e-02],\n",
              "       [ 2.0220e+03,  1.0000e+00,  2.0000e+00, ...,  4.9000e+00,\n",
              "         1.5800e-01,  1.8920e-02],\n",
              "       [ 2.0220e+03,  2.0000e+00,  3.4560e+00, ...,  1.1330e+01,\n",
              "         2.6284e-01,  1.5807e-02]])>"
            ]
          },
          "metadata": {},
          "execution_count": 141
        }
      ]
    },
    {
      "cell_type": "code",
      "source": [
        "normalizer = tf.keras.layers.Normalization(axis=-1)\n",
        "normalizer.adapt(train_numeric_features)"
      ],
      "metadata": {
        "id": "0gOcbXf6SURK"
      },
      "execution_count": 142,
      "outputs": []
    },
    {
      "cell_type": "code",
      "source": [
        "normalizer(train_numeric_features.iloc[:3])"
      ],
      "metadata": {
        "colab": {
          "base_uri": "https://localhost:8080/"
        },
        "id": "84qVVr5fSjFk",
        "outputId": "67202d9d-2eb3-4c67-cb98-3de4930467e3"
      },
      "execution_count": 143,
      "outputs": [
        {
          "output_type": "execute_result",
          "data": {
            "text/plain": [
              "<tf.Tensor: shape=(3, 27), dtype=float32, numpy=\n",
              "array([[ 0.2510773 , -0.6461372 ,  0.27780348,  0.22277802,  1.4014672 ,\n",
              "        -0.22974658,  0.25003886,  1.121919  , -0.22757186, -0.1907779 ,\n",
              "        -0.17446536,  0.04349321, -1.890736  ,  0.16374011, -0.343415  ,\n",
              "        -0.15741356,  2.5109627 , -0.10173492, -0.00511164, -0.02256921,\n",
              "         0.01730787,  1.0968583 ,  1.8339957 ,  0.9195486 , -1.5511179 ,\n",
              "        -0.46593025,  1.3915895 ],\n",
              "       [ 0.2510773 ,  0.1982576 ,  0.00842676,  0.60059416,  0.2909005 ,\n",
              "         1.0893039 ,  0.25003886,  0.5324757 , -0.754863  , -0.29725432,\n",
              "        -0.17446536, -0.2571725 ,  0.3194214 ,  0.16374011, -0.343415  ,\n",
              "        -0.15741356,  2.5109627 , -0.08380967, -0.0759674 , -0.08906016,\n",
              "        -0.08337589,  0.01298299, -0.3218962 , -0.6272349 ,  0.78228235,\n",
              "        -0.6043211 , -0.4441021 ],\n",
              "       [ 0.2510773 , -0.6461372 ,  0.03093532,  0.93505436,  0.2909005 ,\n",
              "        -0.22974658,  0.25003886, -0.35168928,  0.02009513, -0.02041564,\n",
              "        -0.17446536,  1.9677538 ,  0.3194214 ,  0.00605385,  0.875967  ,\n",
              "         0.3039605 ,  0.51955235, -0.09530888, -0.06130881, -0.16201764,\n",
              "        -0.1764765 ,  0.32354212,  0.30404657, -0.47025457,  0.7813684 ,\n",
              "        -1.1504549 ,  0.17845732]], dtype=float32)>"
            ]
          },
          "metadata": {},
          "execution_count": 143
        }
      ]
    },
    {
      "cell_type": "code",
      "source": [
        "def get_basic_model():\n",
        "  model = tf.keras.Sequential([\n",
        "    normalizer,\n",
        "    tf.keras.layers.Dense(56, activation='relu'),\n",
        "    tf.keras.layers.Dense(28, activation='relu'),\n",
        "    tf.keras.layers.Dense(1)\n",
        "  ])\n",
        "\n",
        "  # model.compile(optimizer='adam',\n",
        "  #               loss=tf.keras.losses.BinaryCrossentropy(from_logits=True),\n",
        "  #               metrics=['accuracy'])\n",
        "  \n",
        "  model.compile(loss='mean_absolute_error',\n",
        "                optimizer=tf.keras.optimizers.Adam(0.001))\n",
        "  return model"
      ],
      "metadata": {
        "id": "KB-3rYbPW31s"
      },
      "execution_count": 144,
      "outputs": []
    },
    {
      "cell_type": "code",
      "source": [
        "model = get_basic_model()\n",
        "history = model.fit(train_numeric_features, train_target,validation_split = 0.2, verbose=4,  epochs=70, batch_size=5)"
      ],
      "metadata": {
        "id": "GQkuYnvC9w8v",
        "colab": {
          "base_uri": "https://localhost:8080/"
        },
        "outputId": "6f530bd7-7ed0-4d46-b360-cdfdfa30711f"
      },
      "execution_count": 145,
      "outputs": [
        {
          "output_type": "stream",
          "name": "stdout",
          "text": [
            "Epoch 1/70\n",
            "Epoch 2/70\n",
            "Epoch 3/70\n",
            "Epoch 4/70\n",
            "Epoch 5/70\n",
            "Epoch 6/70\n",
            "Epoch 7/70\n",
            "Epoch 8/70\n",
            "Epoch 9/70\n",
            "Epoch 10/70\n",
            "Epoch 11/70\n",
            "Epoch 12/70\n",
            "Epoch 13/70\n",
            "Epoch 14/70\n",
            "Epoch 15/70\n",
            "Epoch 16/70\n",
            "Epoch 17/70\n",
            "Epoch 18/70\n",
            "Epoch 19/70\n",
            "Epoch 20/70\n",
            "Epoch 21/70\n",
            "Epoch 22/70\n",
            "Epoch 23/70\n",
            "Epoch 24/70\n",
            "Epoch 25/70\n",
            "Epoch 26/70\n",
            "Epoch 27/70\n",
            "Epoch 28/70\n",
            "Epoch 29/70\n",
            "Epoch 30/70\n",
            "Epoch 31/70\n",
            "Epoch 32/70\n",
            "Epoch 33/70\n",
            "Epoch 34/70\n",
            "Epoch 35/70\n",
            "Epoch 36/70\n",
            "Epoch 37/70\n",
            "Epoch 38/70\n",
            "Epoch 39/70\n",
            "Epoch 40/70\n",
            "Epoch 41/70\n",
            "Epoch 42/70\n",
            "Epoch 43/70\n",
            "Epoch 44/70\n",
            "Epoch 45/70\n",
            "Epoch 46/70\n",
            "Epoch 47/70\n",
            "Epoch 48/70\n",
            "Epoch 49/70\n",
            "Epoch 50/70\n",
            "Epoch 51/70\n",
            "Epoch 52/70\n",
            "Epoch 53/70\n",
            "Epoch 54/70\n",
            "Epoch 55/70\n",
            "Epoch 56/70\n",
            "Epoch 57/70\n",
            "Epoch 58/70\n",
            "Epoch 59/70\n",
            "Epoch 60/70\n",
            "Epoch 61/70\n",
            "Epoch 62/70\n",
            "Epoch 63/70\n",
            "Epoch 64/70\n",
            "Epoch 65/70\n",
            "Epoch 66/70\n",
            "Epoch 67/70\n",
            "Epoch 68/70\n",
            "Epoch 69/70\n",
            "Epoch 70/70\n"
          ]
        }
      ]
    },
    {
      "cell_type": "code",
      "source": [
        "def plot_loss(history):\n",
        "  plt.plot(history.history['loss'], label='loss')\n",
        "  plt.plot(history.history['val_loss'], label='val_loss')\n",
        "  plt.ylim([0, 100])\n",
        "  plt.xlabel('Epoch')\n",
        "  plt.ylabel('Error [MPG]')\n",
        "  plt.legend()\n",
        "  plt.grid(True)\n",
        "\n",
        "plot_loss(history)"
      ],
      "metadata": {
        "colab": {
          "base_uri": "https://localhost:8080/",
          "height": 283
        },
        "id": "J6EYl5l6TJsw",
        "outputId": "3a1e3169-8c12-475f-ae7f-133ba778f502"
      },
      "execution_count": 146,
      "outputs": [
        {
          "output_type": "display_data",
          "data": {
            "text/plain": [
              "<Figure size 432x288 with 1 Axes>"
            ],
            "image/png": "[encoded data removed]"
          },
          "metadata": {
            "needs_background": "light"
          }
        }
      ]
    },
    {
      "cell_type": "code",
      "source": [
        "test_results = {}\n",
        "test_results['dnn_model'] = model.evaluate(test_numeric_features, test_target, verbose=0)\n",
        "pd.DataFrame(test_results, index=['Mean absolute error [CO2 (g/mi)]']).T"
      ],
      "metadata": {
        "id": "9sgyOWwWUyrP",
        "colab": {
          "base_uri": "https://localhost:8080/",
          "height": 81
        },
        "outputId": "6d7899f2-30d2-4fdf-84b4-05a8dece0fe2"
      },
      "execution_count": 147,
      "outputs": [
        {
          "output_type": "execute_result",
          "data": {
            "text/plain": [
              "           Mean absolute error [CO2 (g/mi)]\n",
              "dnn_model                          26.76281"
            ],
            "text/html": [
              "\n",
              "  <div id=\"df-e1146564-fe8f-4d9c-8fab-475fbb90350f\">\n",
              "    <div class=\"colab-df-container\">\n",
              "      <div>\n",
              "<style scoped>\n",
              "    .dataframe tbody tr th:only-of-type {\n",
              "        vertical-align: middle;\n",
              "    }\n",
              "\n",
              "    .dataframe tbody tr th {\n",
              "        vertical-align: top;\n",
              "    }\n",
              "\n",
              "    .dataframe thead th {\n",
              "        text-align: right;\n",
              "    }\n",
              "</style>\n",
              "<table border=\"1\" class=\"dataframe\">\n",
              "  <thead>\n",
              "    <tr style=\"text-align: right;\">\n",
              "      <th></th>\n",
              "      <th>Mean absolute error [CO2 (g/mi)]</th>\n",
              "    </tr>\n",
              "  </thead>\n",
              "  <tbody>\n",
              "    <tr>\n",
              "      <th>dnn_model</th>\n",
              "      <td>26.76281</td>\n",
              "    </tr>\n",
              "  </tbody>\n",
              "</table>\n",
              "</div>\n",
              "      <button class=\"colab-df-convert\" onclick=\"convertToInteractive('df-e1146564-fe8f-4d9c-8fab-475fbb90350f')\"\n",
              "              title=\"Convert this dataframe to an interactive table.\"\n",
              "              style=\"display:none;\">\n",
              "        \n",
              "  <svg xmlns=\"http://www.w3.org/2000/svg\" height=\"24px\"viewBox=\"0 0 24 24\"\n",
              "       width=\"24px\">\n",
              "    <path d=\"M0 0h24v24H0V0z\" fill=\"none\"/>\n",
              "    <path d=\"M18.56 5.44l.94 2.06.94-2.06 2.06-.94-2.06-.94-.94-2.06-.94 2.06-2.06.94zm-11 1L8.5 8.5l.94-2.06 2.06-.94-2.06-.94L8.5 2.5l-.94 2.06-2.06.94zm10 10l.94 2.06.94-2.06 2.06-.94-2.06-.94-.94-2.06-.94 2.06-2.06.94z\"/><path d=\"M17.41 7.96l-1.37-1.37c-.4-.4-.92-.59-1.43-.59-.52 0-1.04.2-1.43.59L10.3 9.45l-7.72 7.72c-.78.78-.78 2.05 0 2.83L4 21.41c.39.39.9.59 1.41.59.51 0 1.02-.2 1.41-.59l7.78-7.78 2.81-2.81c.8-.78.8-2.07 0-2.86zM5.41 20L4 18.59l7.72-7.72 1.47 1.35L5.41 20z\"/>\n",
              "  </svg>\n",
              "      </button>\n",
              "      \n",
              "  <style>\n",
              "    .colab-df-container {\n",
              "      display:flex;\n",
              "      flex-wrap:wrap;\n",
              "      gap: 12px;\n",
              "    }\n",
              "\n",
              "    .colab-df-convert {\n",
              "      background-color: #E8F0FE;\n",
              "      border: none;\n",
              "      border-radius: 50%;\n",
              "      cursor: pointer;\n",
              "      display: none;\n",
              "      fill: #1967D2;\n",
              "      height: 32px;\n",
              "      padding: 0 0 0 0;\n",
              "      width: 32px;\n",
              "    }\n",
              "\n",
              "    .colab-df-convert:hover {\n",
              "      background-color: #E2EBFA;\n",
              "      box-shadow: 0px 1px 2px rgba(60, 64, 67, 0.3), 0px 1px 3px 1px rgba(60, 64, 67, 0.15);\n",
              "      fill: #174EA6;\n",
              "    }\n",
              "\n",
              "    [theme=dark] .colab-df-convert {\n",
              "      background-color: #3B4455;\n",
              "      fill: #D2E3FC;\n",
              "    }\n",
              "\n",
              "    [theme=dark] .colab-df-convert:hover {\n",
              "      background-color: #434B5C;\n",
              "      box-shadow: 0px 1px 3px 1px rgba(0, 0, 0, 0.15);\n",
              "      filter: drop-shadow(0px 1px 2px rgba(0, 0, 0, 0.3));\n",
              "      fill: #FFFFFF;\n",
              "    }\n",
              "  </style>\n",
              "\n",
              "      <script>\n",
              "        const buttonEl =\n",
              "          document.querySelector('#df-e1146564-fe8f-4d9c-8fab-475fbb90350f button.colab-df-convert');\n",
              "        buttonEl.style.display =\n",
              "          google.colab.kernel.accessAllowed ? 'block' : 'none';\n",
              "\n",
              "        async function convertToInteractive(key) {\n",
              "          const element = document.querySelector('#df-e1146564-fe8f-4d9c-8fab-475fbb90350f');\n",
              "          const dataTable =\n",
              "            await google.colab.kernel.invokeFunction('convertToInteractive',\n",
              "                                                     [key], {});\n",
              "          if (!dataTable) return;\n",
              "\n",
              "          const docLinkHtml = 'Like what you see? Visit the ' +\n",
              "            '<a target=\"_blank\" href=https://colab.research.google.com/notebooks/data_table.ipynb>data table notebook</a>'\n",
              "            + ' to learn more about interactive tables.';\n",
              "          element.innerHTML = '';\n",
              "          dataTable['output_type'] = 'display_data';\n",
              "          await google.colab.output.renderOutput(dataTable, element);\n",
              "          const docLink = document.createElement('div');\n",
              "          docLink.innerHTML = docLinkHtml;\n",
              "          element.appendChild(docLink);\n",
              "        }\n",
              "      </script>\n",
              "    </div>\n",
              "  </div>\n",
              "  "
            ]
          },
          "metadata": {},
          "execution_count": 147
        }
      ]
    },
    {
      "cell_type": "code",
      "source": [
        "test_predictions = model.predict(test_numeric_features).flatten()\n"
      ],
      "metadata": {
        "id": "WoQZaHKjU8EC",
        "outputId": "67a38a61-28d2-42d9-d032-840ca9ebc00a",
        "colab": {
          "base_uri": "https://localhost:8080/"
        }
      },
      "execution_count": 148,
      "outputs": [
        {
          "output_type": "stream",
          "name": "stdout",
          "text": [
            "28/28 [==============================] - 0s 1ms/step\n"
          ]
        }
      ]
    }
  ]
}