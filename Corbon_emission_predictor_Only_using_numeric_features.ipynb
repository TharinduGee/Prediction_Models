{
  "nbformat": 4,
  "nbformat_minor": 0,
  "metadata": {
    "colab": {
      "name": "Corbon_emission_predictor_Only using numeric features.ipynb",
      "provenance": [],
      "authorship_tag": "ABX9TyMQwBh9NS097PTUR2wmEHmN",
      "include_colab_link": true
    },
    "kernelspec": {
      "name": "python3",
      "display_name": "Python 3"
    },
    "language_info": {
      "name": "python"
    },
    "accelerator": "GPU",
    "gpuClass": "standard"
  },
  "cells": [
    {
      "cell_type": "markdown",
      "metadata": {
        "id": "view-in-github",
        "colab_type": "text"
      },
      "source": [
        "<a href=\"https://colab.research.google.com/github/TharinduGee/Prediction_Models/blob/main/Corbon_emission_predictor_Only_using_numeric_features.ipynb\" target=\"_parent\"><img src=\"https://colab.research.google.com/assets/colab-badge.svg\" alt=\"Open In Colab\"/></a>"
      ]
    },
    {
      "cell_type": "markdown",
      "source": [
        ""
      ],
      "metadata": {
        "id": "JU2YO65V7Rcd"
      }
    },
    {
      "cell_type": "code",
      "source": [
        "import numpy as np;\n",
        "import pandas as pd;\n",
        "import matplotlib.pyplot as plt;\n",
        "import tensorflow as tf;"
      ],
      "metadata": {
        "id": "rnpDqhPjULWs"
      },
      "execution_count": 2,
      "outputs": []
    },
    {
      "cell_type": "code",
      "source": [
        "record = pd.read_excel('https://www.epa.gov/system/files/documents/2022-04/22-tstcar-2022-04-15.xlsx');\n"
      ],
      "metadata": {
        "id": "35DYhh8-Uk3z"
      },
      "execution_count": 3,
      "outputs": []
    },
    {
      "cell_type": "code",
      "source": [
        "record = record.dropna(thresh = 3000, axis='columns')\n",
        "record = record.fillna(method= 'ffill',axis='rows')\n"
      ],
      "metadata": {
        "id": "4GcZCFezpNt_"
      },
      "execution_count": 4,
      "outputs": []
    },
    {
      "cell_type": "code",
      "source": [
        "\n",
        "train_record = record.sample(frac = 0.8, random_state = 3)\n",
        "test_record = record.drop(train_record.index)\n",
        "\n"
      ],
      "metadata": {
        "id": "_4XtI63v0j9Y"
      },
      "execution_count": 5,
      "outputs": []
    },
    {
      "cell_type": "code",
      "source": [
        "numeric_feature_names = []\n",
        "for name in record.columns:\n",
        "  if record[name].dtype != object:\n",
        "    numeric_feature_names.append(name)\n",
        "\n",
        "numeric_feature_names"
      ],
      "metadata": {
        "id": "eyvfgv8Ax6jB",
        "colab": {
          "base_uri": "https://localhost:8080/"
        },
        "outputId": "14d855af-0ac6-4614-b1d4-8a5c1fdcb1e4"
      },
      "execution_count": 6,
      "outputs": [
        {
          "output_type": "execute_result",
          "data": {
            "text/plain": [
              "['Model Year',\n",
              " 'Test Veh Configuration #',\n",
              " 'Test Veh Displacement (L)',\n",
              " 'Rated Horsepower',\n",
              " '# of Cylinders and Rotors',\n",
              " '# of Gears',\n",
              " 'Transmission Overdrive Code',\n",
              " 'Equivalent Test Weight (lbs.)',\n",
              " 'Axle Ratio',\n",
              " 'N/V Ratio',\n",
              " 'Shift Indicator Light Use Cd',\n",
              " 'Test Procedure Cd',\n",
              " 'Test Fuel Type Cd',\n",
              " 'THC (g/mi)',\n",
              " 'CO (g/mi)',\n",
              " 'CO2 (g/mi)',\n",
              " 'NOx (g/mi)',\n",
              " 'CH4 (g/mi)',\n",
              " 'RND_ADJ_FE',\n",
              " 'DT-Inertia Work Ratio Rating',\n",
              " 'DT-Absolute Speed Change Ratg',\n",
              " 'DT-Energy Economy Rating',\n",
              " 'Target Coef A (lbf)',\n",
              " 'Target Coef B (lbf/mph)',\n",
              " 'Target Coef C (lbf/mph**2)',\n",
              " 'Set Coef A (lbf)',\n",
              " 'Set Coef B (lbf/mph)',\n",
              " 'Set Coef C (lbf/mph**2)']"
            ]
          },
          "metadata": {},
          "execution_count": 6
        }
      ]
    },
    {
      "cell_type": "code",
      "source": [
        "train_numeric_features = train_record[numeric_feature_names]\n",
        "test_numeric_features = test_record[numeric_feature_names]\n"
      ],
      "metadata": {
        "id": "F_4o2WAj6Arl"
      },
      "execution_count": 7,
      "outputs": []
    },
    {
      "cell_type": "code",
      "source": [
        "\n",
        "train_target = train_numeric_features.pop(\"CO2 (g/mi)\")\n",
        "test_target = test_numeric_features.pop(\"CO2 (g/mi)\")\n",
        "train_numeric_features.head()"
      ],
      "metadata": {
        "id": "yumst5qX1Qtw",
        "colab": {
          "base_uri": "https://localhost:8080/",
          "height": 314
        },
        "outputId": "1759bddf-6f69-462d-dfc0-fa83e8908ea0"
      },
      "execution_count": 8,
      "outputs": [
        {
          "output_type": "execute_result",
          "data": {
            "text/plain": [
              "      Model Year  Test Veh Configuration #  Test Veh Displacement (L)  \\\n",
              "1806        2022                         0                      5.300   \n",
              "3525        2022                         1                      3.445   \n",
              "1240        2022                         0                      3.600   \n",
              "3129        2022                         3                      5.600   \n",
              "3729        2022                         0                      1.987   \n",
              "\n",
              "      Rated Horsepower  # of Cylinders and Rotors  # of Gears  \\\n",
              "1806               355                        8.0           6   \n",
              "3525               416                        6.0          10   \n",
              "1240               470                        6.0           6   \n",
              "3129               400                        8.0           9   \n",
              "3729               169                        4.0           6   \n",
              "\n",
              "      Transmission Overdrive Code  Equivalent Test Weight (lbs.)  Axle Ratio  \\\n",
              "1806                            2                           5500        3.42   \n",
              "3525                            2                           5000        2.76   \n",
              "1240                            2                           4250        3.73   \n",
              "3129                            2                           6000        3.69   \n",
              "3729                            2                           3375        3.94   \n",
              "\n",
              "      N/V Ratio  ...  RND_ADJ_FE  DT-Inertia Work Ratio Rating  \\\n",
              "1806       24.6  ...        12.5                      1.008000   \n",
              "3525       20.1  ...        23.1                      0.420000   \n",
              "1240       31.8  ...        16.3                      0.541645   \n",
              "3129       23.1  ...        18.9                      3.090000   \n",
              "3729       37.9  ...        37.3                      1.310000   \n",
              "\n",
              "      DT-Absolute Speed Change Ratg  DT-Energy Economy Rating  \\\n",
              "1806                       0.744000                    0.7780   \n",
              "3525                       0.210000                   -0.1700   \n",
              "1240                      -0.375934                   -1.0466   \n",
              "3129                       2.030000                    1.4700   \n",
              "3729                       0.910000                    0.2700   \n",
              "\n",
              "      Target Coef A (lbf)  Target Coef B (lbf/mph)  \\\n",
              "1806               52.820                  0.84090   \n",
              "3525               39.631                  0.15691   \n",
              "1240               43.410                  0.35550   \n",
              "3129               37.190                  0.04190   \n",
              "3729               25.138                  0.13072   \n",
              "\n",
              "      Target Coef C (lbf/mph**2)  Set Coef A (lbf)  Set Coef B (lbf/mph)  \\\n",
              "1806                    0.032210            -9.810              -0.04400   \n",
              "3525                    0.019578            18.271              -0.08591   \n",
              "1240                    0.020860            18.260              -0.25130   \n",
              "3129                    0.040570            16.810              -0.29760   \n",
              "3729                    0.019293            13.540              -0.08360   \n",
              "\n",
              "      Set Coef C (lbf/mph**2)  \n",
              "1806                 0.035940  \n",
              "3525                 0.020445  \n",
              "1240                 0.025700  \n",
              "3129                 0.040980  \n",
              "3729                 0.019998  \n",
              "\n",
              "[5 rows x 27 columns]"
            ],
            "text/html": [
              "\n",
              "  <div id=\"df-7071c452-7a0c-4283-90b8-b13a2b6a8260\">\n",
              "    <div class=\"colab-df-container\">\n",
              "      <div>\n",
              "<style scoped>\n",
              "    .dataframe tbody tr th:only-of-type {\n",
              "        vertical-align: middle;\n",
              "    }\n",
              "\n",
              "    .dataframe tbody tr th {\n",
              "        vertical-align: top;\n",
              "    }\n",
              "\n",
              "    .dataframe thead th {\n",
              "        text-align: right;\n",
              "    }\n",
              "</style>\n",
              "<table border=\"1\" class=\"dataframe\">\n",
              "  <thead>\n",
              "    <tr style=\"text-align: right;\">\n",
              "      <th></th>\n",
              "      <th>Model Year</th>\n",
              "      <th>Test Veh Configuration #</th>\n",
              "      <th>Test Veh Displacement (L)</th>\n",
              "      <th>Rated Horsepower</th>\n",
              "      <th># of Cylinders and Rotors</th>\n",
              "      <th># of Gears</th>\n",
              "      <th>Transmission Overdrive Code</th>\n",
              "      <th>Equivalent Test Weight (lbs.)</th>\n",
              "      <th>Axle Ratio</th>\n",
              "      <th>N/V Ratio</th>\n",
              "      <th>...</th>\n",
              "      <th>RND_ADJ_FE</th>\n",
              "      <th>DT-Inertia Work Ratio Rating</th>\n",
              "      <th>DT-Absolute Speed Change Ratg</th>\n",
              "      <th>DT-Energy Economy Rating</th>\n",
              "      <th>Target Coef A (lbf)</th>\n",
              "      <th>Target Coef B (lbf/mph)</th>\n",
              "      <th>Target Coef C (lbf/mph**2)</th>\n",
              "      <th>Set Coef A (lbf)</th>\n",
              "      <th>Set Coef B (lbf/mph)</th>\n",
              "      <th>Set Coef C (lbf/mph**2)</th>\n",
              "    </tr>\n",
              "  </thead>\n",
              "  <tbody>\n",
              "    <tr>\n",
              "      <th>1806</th>\n",
              "      <td>2022</td>\n",
              "      <td>0</td>\n",
              "      <td>5.300</td>\n",
              "      <td>355</td>\n",
              "      <td>8.0</td>\n",
              "      <td>6</td>\n",
              "      <td>2</td>\n",
              "      <td>5500</td>\n",
              "      <td>3.42</td>\n",
              "      <td>24.6</td>\n",
              "      <td>...</td>\n",
              "      <td>12.5</td>\n",
              "      <td>1.008000</td>\n",
              "      <td>0.744000</td>\n",
              "      <td>0.7780</td>\n",
              "      <td>52.820</td>\n",
              "      <td>0.84090</td>\n",
              "      <td>0.032210</td>\n",
              "      <td>-9.810</td>\n",
              "      <td>-0.04400</td>\n",
              "      <td>0.035940</td>\n",
              "    </tr>\n",
              "    <tr>\n",
              "      <th>3525</th>\n",
              "      <td>2022</td>\n",
              "      <td>1</td>\n",
              "      <td>3.445</td>\n",
              "      <td>416</td>\n",
              "      <td>6.0</td>\n",
              "      <td>10</td>\n",
              "      <td>2</td>\n",
              "      <td>5000</td>\n",
              "      <td>2.76</td>\n",
              "      <td>20.1</td>\n",
              "      <td>...</td>\n",
              "      <td>23.1</td>\n",
              "      <td>0.420000</td>\n",
              "      <td>0.210000</td>\n",
              "      <td>-0.1700</td>\n",
              "      <td>39.631</td>\n",
              "      <td>0.15691</td>\n",
              "      <td>0.019578</td>\n",
              "      <td>18.271</td>\n",
              "      <td>-0.08591</td>\n",
              "      <td>0.020445</td>\n",
              "    </tr>\n",
              "    <tr>\n",
              "      <th>1240</th>\n",
              "      <td>2022</td>\n",
              "      <td>0</td>\n",
              "      <td>3.600</td>\n",
              "      <td>470</td>\n",
              "      <td>6.0</td>\n",
              "      <td>6</td>\n",
              "      <td>2</td>\n",
              "      <td>4250</td>\n",
              "      <td>3.73</td>\n",
              "      <td>31.8</td>\n",
              "      <td>...</td>\n",
              "      <td>16.3</td>\n",
              "      <td>0.541645</td>\n",
              "      <td>-0.375934</td>\n",
              "      <td>-1.0466</td>\n",
              "      <td>43.410</td>\n",
              "      <td>0.35550</td>\n",
              "      <td>0.020860</td>\n",
              "      <td>18.260</td>\n",
              "      <td>-0.25130</td>\n",
              "      <td>0.025700</td>\n",
              "    </tr>\n",
              "    <tr>\n",
              "      <th>3129</th>\n",
              "      <td>2022</td>\n",
              "      <td>3</td>\n",
              "      <td>5.600</td>\n",
              "      <td>400</td>\n",
              "      <td>8.0</td>\n",
              "      <td>9</td>\n",
              "      <td>2</td>\n",
              "      <td>6000</td>\n",
              "      <td>3.69</td>\n",
              "      <td>23.1</td>\n",
              "      <td>...</td>\n",
              "      <td>18.9</td>\n",
              "      <td>3.090000</td>\n",
              "      <td>2.030000</td>\n",
              "      <td>1.4700</td>\n",
              "      <td>37.190</td>\n",
              "      <td>0.04190</td>\n",
              "      <td>0.040570</td>\n",
              "      <td>16.810</td>\n",
              "      <td>-0.29760</td>\n",
              "      <td>0.040980</td>\n",
              "    </tr>\n",
              "    <tr>\n",
              "      <th>3729</th>\n",
              "      <td>2022</td>\n",
              "      <td>0</td>\n",
              "      <td>1.987</td>\n",
              "      <td>169</td>\n",
              "      <td>4.0</td>\n",
              "      <td>6</td>\n",
              "      <td>2</td>\n",
              "      <td>3375</td>\n",
              "      <td>3.94</td>\n",
              "      <td>37.9</td>\n",
              "      <td>...</td>\n",
              "      <td>37.3</td>\n",
              "      <td>1.310000</td>\n",
              "      <td>0.910000</td>\n",
              "      <td>0.2700</td>\n",
              "      <td>25.138</td>\n",
              "      <td>0.13072</td>\n",
              "      <td>0.019293</td>\n",
              "      <td>13.540</td>\n",
              "      <td>-0.08360</td>\n",
              "      <td>0.019998</td>\n",
              "    </tr>\n",
              "  </tbody>\n",
              "</table>\n",
              "<p>5 rows × 27 columns</p>\n",
              "</div>\n",
              "      <button class=\"colab-df-convert\" onclick=\"convertToInteractive('df-7071c452-7a0c-4283-90b8-b13a2b6a8260')\"\n",
              "              title=\"Convert this dataframe to an interactive table.\"\n",
              "              style=\"display:none;\">\n",
              "        \n",
              "  <svg xmlns=\"http://www.w3.org/2000/svg\" height=\"24px\"viewBox=\"0 0 24 24\"\n",
              "       width=\"24px\">\n",
              "    <path d=\"M0 0h24v24H0V0z\" fill=\"none\"/>\n",
              "    <path d=\"M18.56 5.44l.94 2.06.94-2.06 2.06-.94-2.06-.94-.94-2.06-.94 2.06-2.06.94zm-11 1L8.5 8.5l.94-2.06 2.06-.94-2.06-.94L8.5 2.5l-.94 2.06-2.06.94zm10 10l.94 2.06.94-2.06 2.06-.94-2.06-.94-.94-2.06-.94 2.06-2.06.94z\"/><path d=\"M17.41 7.96l-1.37-1.37c-.4-.4-.92-.59-1.43-.59-.52 0-1.04.2-1.43.59L10.3 9.45l-7.72 7.72c-.78.78-.78 2.05 0 2.83L4 21.41c.39.39.9.59 1.41.59.51 0 1.02-.2 1.41-.59l7.78-7.78 2.81-2.81c.8-.78.8-2.07 0-2.86zM5.41 20L4 18.59l7.72-7.72 1.47 1.35L5.41 20z\"/>\n",
              "  </svg>\n",
              "      </button>\n",
              "      \n",
              "  <style>\n",
              "    .colab-df-container {\n",
              "      display:flex;\n",
              "      flex-wrap:wrap;\n",
              "      gap: 12px;\n",
              "    }\n",
              "\n",
              "    .colab-df-convert {\n",
              "      background-color: #E8F0FE;\n",
              "      border: none;\n",
              "      border-radius: 50%;\n",
              "      cursor: pointer;\n",
              "      display: none;\n",
              "      fill: #1967D2;\n",
              "      height: 32px;\n",
              "      padding: 0 0 0 0;\n",
              "      width: 32px;\n",
              "    }\n",
              "\n",
              "    .colab-df-convert:hover {\n",
              "      background-color: #E2EBFA;\n",
              "      box-shadow: 0px 1px 2px rgba(60, 64, 67, 0.3), 0px 1px 3px 1px rgba(60, 64, 67, 0.15);\n",
              "      fill: #174EA6;\n",
              "    }\n",
              "\n",
              "    [theme=dark] .colab-df-convert {\n",
              "      background-color: #3B4455;\n",
              "      fill: #D2E3FC;\n",
              "    }\n",
              "\n",
              "    [theme=dark] .colab-df-convert:hover {\n",
              "      background-color: #434B5C;\n",
              "      box-shadow: 0px 1px 3px 1px rgba(0, 0, 0, 0.15);\n",
              "      filter: drop-shadow(0px 1px 2px rgba(0, 0, 0, 0.3));\n",
              "      fill: #FFFFFF;\n",
              "    }\n",
              "  </style>\n",
              "\n",
              "      <script>\n",
              "        const buttonEl =\n",
              "          document.querySelector('#df-7071c452-7a0c-4283-90b8-b13a2b6a8260 button.colab-df-convert');\n",
              "        buttonEl.style.display =\n",
              "          google.colab.kernel.accessAllowed ? 'block' : 'none';\n",
              "\n",
              "        async function convertToInteractive(key) {\n",
              "          const element = document.querySelector('#df-7071c452-7a0c-4283-90b8-b13a2b6a8260');\n",
              "          const dataTable =\n",
              "            await google.colab.kernel.invokeFunction('convertToInteractive',\n",
              "                                                     [key], {});\n",
              "          if (!dataTable) return;\n",
              "\n",
              "          const docLinkHtml = 'Like what you see? Visit the ' +\n",
              "            '<a target=\"_blank\" href=https://colab.research.google.com/notebooks/data_table.ipynb>data table notebook</a>'\n",
              "            + ' to learn more about interactive tables.';\n",
              "          element.innerHTML = '';\n",
              "          dataTable['output_type'] = 'display_data';\n",
              "          await google.colab.output.renderOutput(dataTable, element);\n",
              "          const docLink = document.createElement('div');\n",
              "          docLink.innerHTML = docLinkHtml;\n",
              "          element.appendChild(docLink);\n",
              "        }\n",
              "      </script>\n",
              "    </div>\n",
              "  </div>\n",
              "  "
            ]
          },
          "metadata": {},
          "execution_count": 8
        }
      ]
    },
    {
      "cell_type": "code",
      "source": [
        "tf.convert_to_tensor(train_numeric_features)"
      ],
      "metadata": {
        "colab": {
          "base_uri": "https://localhost:8080/"
        },
        "id": "fXc3-uvqQ6qj",
        "outputId": "a213a283-778d-4ac5-9e2a-ce98eff514ad"
      },
      "execution_count": 9,
      "outputs": [
        {
          "output_type": "execute_result",
          "data": {
            "text/plain": [
              "<tf.Tensor: shape=(3518, 27), dtype=float64, numpy=\n",
              "array([[ 2.0220e+03,  0.0000e+00,  5.3000e+00, ..., -9.8100e+00,\n",
              "        -4.4000e-02,  3.5940e-02],\n",
              "       [ 2.0220e+03,  1.0000e+00,  3.4450e+00, ...,  1.8271e+01,\n",
              "        -8.5910e-02,  2.0445e-02],\n",
              "       [ 2.0220e+03,  0.0000e+00,  3.6000e+00, ...,  1.8260e+01,\n",
              "        -2.5130e-01,  2.5700e-02],\n",
              "       ...,\n",
              "       [ 2.0220e+03,  0.0000e+00,  1.9840e+00, ...,  6.8800e+00,\n",
              "        -1.5200e-01,  2.2130e-02],\n",
              "       [ 2.0220e+03,  1.0000e+00,  2.0000e+00, ...,  4.9000e+00,\n",
              "         1.5800e-01,  1.8920e-02],\n",
              "       [ 2.0220e+03,  2.0000e+00,  3.4560e+00, ...,  1.1330e+01,\n",
              "         2.6284e-01,  1.5807e-02]])>"
            ]
          },
          "metadata": {},
          "execution_count": 9
        }
      ]
    },
    {
      "cell_type": "code",
      "source": [
        "normalizer = tf.keras.layers.Normalization(axis=-1)\n",
        "normalizer.adapt(train_numeric_features)"
      ],
      "metadata": {
        "id": "0gOcbXf6SURK"
      },
      "execution_count": 10,
      "outputs": []
    },
    {
      "cell_type": "code",
      "source": [
        "normalizer(train_numeric_features.iloc[:3])"
      ],
      "metadata": {
        "colab": {
          "base_uri": "https://localhost:8080/"
        },
        "id": "84qVVr5fSjFk",
        "outputId": "b4ce0b95-088d-447f-c7e5-38c655c19ac2"
      },
      "execution_count": 11,
      "outputs": [
        {
          "output_type": "execute_result",
          "data": {
            "text/plain": [
              "<tf.Tensor: shape=(3, 27), dtype=float32, numpy=\n",
              "array([[ 0.2510773 , -0.6461372 ,  0.27780348,  0.22277802,  1.4018264 ,\n",
              "        -0.22974658,  0.25003886,  1.121919  , -0.22757186, -0.1907779 ,\n",
              "        -0.17446536,  0.04349321, -1.890736  ,  0.20158921, -0.27648124,\n",
              "        -0.12516756,  2.8404562 , -0.10240007, -0.01768634, -0.03526393,\n",
              "         0.00996929,  1.0968583 ,  1.8339957 ,  0.9195486 , -1.5511179 ,\n",
              "        -0.46593025,  1.3915895 ],\n",
              "       [ 0.2510773 ,  0.1982576 ,  0.00842676,  0.60059416,  0.28846708,\n",
              "         1.0893039 ,  0.25003886,  0.5324757 , -0.754863  , -0.29725432,\n",
              "        -0.17446536, -0.2571725 ,  0.3194214 , -0.40256923, -0.40757272,\n",
              "        -0.71313316, -0.52303773, -0.08447495, -0.08340643, -0.0966454 ,\n",
              "        -0.08768455,  0.01298299, -0.3218962 , -0.6272349 ,  0.78228235,\n",
              "        -0.6043211 , -0.4441021 ],\n",
              "       [ 0.2510773 , -0.6461372 ,  0.03093532,  0.93505436,  0.28846708,\n",
              "        -0.22974658,  0.25003886, -0.35168928,  0.02009513, -0.02041564,\n",
              "        -0.17446536,  1.9677538 ,  0.3194214 ,  0.02938709,  0.4314834 ,\n",
              "         0.36704192,  0.641381  , -0.09597409, -0.06981031, -0.16399649,\n",
              "        -0.17798345,  0.32354212,  0.30404657, -0.47025457,  0.7813684 ,\n",
              "        -1.1504549 ,  0.17845732]], dtype=float32)>"
            ]
          },
          "metadata": {},
          "execution_count": 11
        }
      ]
    },
    {
      "cell_type": "code",
      "source": [
        "def get_basic_model():\n",
        "  model = tf.keras.Sequential([\n",
        "    normalizer,\n",
        "    tf.keras.layers.Dense(56, activation='relu'),\n",
        "    tf.keras.layers.Dense(28, activation='relu'),\n",
        "    tf.keras.layers.Dense(1)\n",
        "  ])\n",
        "\n",
        "  # model.compile(optimizer='adam',\n",
        "  #               loss=tf.keras.losses.BinaryCrossentropy(from_logits=True),\n",
        "  #               metrics=['accuracy'])\n",
        "  \n",
        "  model.compile(loss='mean_absolute_error',\n",
        "                optimizer=tf.keras.optimizers.Adam(0.001))\n",
        "  return model"
      ],
      "metadata": {
        "id": "KB-3rYbPW31s"
      },
      "execution_count": 12,
      "outputs": []
    },
    {
      "cell_type": "code",
      "source": [
        "model = get_basic_model()\n",
        "history = model.fit(train_numeric_features, train_target,validation_split = 0.2, verbose=4,  epochs=70, batch_size=5)"
      ],
      "metadata": {
        "id": "GQkuYnvC9w8v",
        "colab": {
          "base_uri": "https://localhost:8080/"
        },
        "outputId": "1511bdb6-6d47-4a9d-dfda-2d282ab3666c"
      },
      "execution_count": 16,
      "outputs": [
        {
          "output_type": "stream",
          "name": "stdout",
          "text": [
            "Epoch 1/70\n",
            "Epoch 2/70\n",
            "Epoch 3/70\n",
            "Epoch 4/70\n",
            "Epoch 5/70\n",
            "Epoch 6/70\n",
            "Epoch 7/70\n",
            "Epoch 8/70\n",
            "Epoch 9/70\n",
            "Epoch 10/70\n",
            "Epoch 11/70\n",
            "Epoch 12/70\n",
            "Epoch 13/70\n",
            "Epoch 14/70\n",
            "Epoch 15/70\n",
            "Epoch 16/70\n",
            "Epoch 17/70\n",
            "Epoch 18/70\n",
            "Epoch 19/70\n",
            "Epoch 20/70\n",
            "Epoch 21/70\n",
            "Epoch 22/70\n",
            "Epoch 23/70\n",
            "Epoch 24/70\n",
            "Epoch 25/70\n",
            "Epoch 26/70\n",
            "Epoch 27/70\n",
            "Epoch 28/70\n",
            "Epoch 29/70\n",
            "Epoch 30/70\n",
            "Epoch 31/70\n",
            "Epoch 32/70\n",
            "Epoch 33/70\n",
            "Epoch 34/70\n",
            "Epoch 35/70\n",
            "Epoch 36/70\n",
            "Epoch 37/70\n",
            "Epoch 38/70\n",
            "Epoch 39/70\n",
            "Epoch 40/70\n",
            "Epoch 41/70\n",
            "Epoch 42/70\n",
            "Epoch 43/70\n",
            "Epoch 44/70\n",
            "Epoch 45/70\n",
            "Epoch 46/70\n",
            "Epoch 47/70\n",
            "Epoch 48/70\n",
            "Epoch 49/70\n",
            "Epoch 50/70\n",
            "Epoch 51/70\n",
            "Epoch 52/70\n",
            "Epoch 53/70\n",
            "Epoch 54/70\n",
            "Epoch 55/70\n",
            "Epoch 56/70\n",
            "Epoch 57/70\n",
            "Epoch 58/70\n",
            "Epoch 59/70\n",
            "Epoch 60/70\n",
            "Epoch 61/70\n",
            "Epoch 62/70\n",
            "Epoch 63/70\n",
            "Epoch 64/70\n",
            "Epoch 65/70\n",
            "Epoch 66/70\n",
            "Epoch 67/70\n",
            "Epoch 68/70\n",
            "Epoch 69/70\n",
            "Epoch 70/70\n"
          ]
        }
      ]
    },
    {
      "cell_type": "code",
      "source": [
        "def plot_loss(history):\n",
        "  plt.plot(history.history['loss'], label='loss')\n",
        "  plt.plot(history.history['val_loss'], label='val_loss')\n",
        "  plt.ylim([0, 100])\n",
        "  plt.xlabel('Epoch')\n",
        "  plt.ylabel('Error [MPG]')\n",
        "  plt.legend()\n",
        "  plt.grid(True)\n",
        "\n",
        "plot_loss(history)"
      ],
      "metadata": {
        "colab": {
          "base_uri": "https://localhost:8080/",
          "height": 283
        },
        "id": "J6EYl5l6TJsw",
        "outputId": "e7682373-188d-4151-bc13-1c04534b37d4"
      },
      "execution_count": 17,
      "outputs": [
        {
          "output_type": "display_data",
          "data": {
            "text/plain": [
              "<Figure size 432x288 with 1 Axes>"
            ],
            "image/png": "[encoded data removed]"
          },
          "metadata": {
            "needs_background": "light"
          }
        }
      ]
    },
    {
      "cell_type": "code",
      "source": [
        "test_results = {}\n",
        "test_results['dnn_model'] = model.evaluate(test_numeric_features, test_target, verbose=0)\n",
        "pd.DataFrame(test_results, index=['Mean absolute error [CO2 (g/mi)]']).T"
      ],
      "metadata": {
        "id": "9sgyOWwWUyrP",
        "colab": {
          "base_uri": "https://localhost:8080/",
          "height": 81
        },
        "outputId": "be4cb4e5-1410-456d-b70a-33a3df381384"
      },
      "execution_count": 18,
      "outputs": [
        {
          "output_type": "execute_result",
          "data": {
            "text/plain": [
              "           Mean absolute error [CO2 (g/mi)]\n",
              "dnn_model                         21.840305"
            ],
            "text/html": [
              "\n",
              "  <div id=\"df-cf7e3e14-68c7-489b-a50f-c73855bec627\">\n",
              "    <div class=\"colab-df-container\">\n",
              "      <div>\n",
              "<style scoped>\n",
              "    .dataframe tbody tr th:only-of-type {\n",
              "        vertical-align: middle;\n",
              "    }\n",
              "\n",
              "    .dataframe tbody tr th {\n",
              "        vertical-align: top;\n",
              "    }\n",
              "\n",
              "    .dataframe thead th {\n",
              "        text-align: right;\n",
              "    }\n",
              "</style>\n",
              "<table border=\"1\" class=\"dataframe\">\n",
              "  <thead>\n",
              "    <tr style=\"text-align: right;\">\n",
              "      <th></th>\n",
              "      <th>Mean absolute error [CO2 (g/mi)]</th>\n",
              "    </tr>\n",
              "  </thead>\n",
              "  <tbody>\n",
              "    <tr>\n",
              "      <th>dnn_model</th>\n",
              "      <td>21.840305</td>\n",
              "    </tr>\n",
              "  </tbody>\n",
              "</table>\n",
              "</div>\n",
              "      <button class=\"colab-df-convert\" onclick=\"convertToInteractive('df-cf7e3e14-68c7-489b-a50f-c73855bec627')\"\n",
              "              title=\"Convert this dataframe to an interactive table.\"\n",
              "              style=\"display:none;\">\n",
              "        \n",
              "  <svg xmlns=\"http://www.w3.org/2000/svg\" height=\"24px\"viewBox=\"0 0 24 24\"\n",
              "       width=\"24px\">\n",
              "    <path d=\"M0 0h24v24H0V0z\" fill=\"none\"/>\n",
              "    <path d=\"M18.56 5.44l.94 2.06.94-2.06 2.06-.94-2.06-.94-.94-2.06-.94 2.06-2.06.94zm-11 1L8.5 8.5l.94-2.06 2.06-.94-2.06-.94L8.5 2.5l-.94 2.06-2.06.94zm10 10l.94 2.06.94-2.06 2.06-.94-2.06-.94-.94-2.06-.94 2.06-2.06.94z\"/><path d=\"M17.41 7.96l-1.37-1.37c-.4-.4-.92-.59-1.43-.59-.52 0-1.04.2-1.43.59L10.3 9.45l-7.72 7.72c-.78.78-.78 2.05 0 2.83L4 21.41c.39.39.9.59 1.41.59.51 0 1.02-.2 1.41-.59l7.78-7.78 2.81-2.81c.8-.78.8-2.07 0-2.86zM5.41 20L4 18.59l7.72-7.72 1.47 1.35L5.41 20z\"/>\n",
              "  </svg>\n",
              "      </button>\n",
              "      \n",
              "  <style>\n",
              "    .colab-df-container {\n",
              "      display:flex;\n",
              "      flex-wrap:wrap;\n",
              "      gap: 12px;\n",
              "    }\n",
              "\n",
              "    .colab-df-convert {\n",
              "      background-color: #E8F0FE;\n",
              "      border: none;\n",
              "      border-radius: 50%;\n",
              "      cursor: pointer;\n",
              "      display: none;\n",
              "      fill: #1967D2;\n",
              "      height: 32px;\n",
              "      padding: 0 0 0 0;\n",
              "      width: 32px;\n",
              "    }\n",
              "\n",
              "    .colab-df-convert:hover {\n",
              "      background-color: #E2EBFA;\n",
              "      box-shadow: 0px 1px 2px rgba(60, 64, 67, 0.3), 0px 1px 3px 1px rgba(60, 64, 67, 0.15);\n",
              "      fill: #174EA6;\n",
              "    }\n",
              "\n",
              "    [theme=dark] .colab-df-convert {\n",
              "      background-color: #3B4455;\n",
              "      fill: #D2E3FC;\n",
              "    }\n",
              "\n",
              "    [theme=dark] .colab-df-convert:hover {\n",
              "      background-color: #434B5C;\n",
              "      box-shadow: 0px 1px 3px 1px rgba(0, 0, 0, 0.15);\n",
              "      filter: drop-shadow(0px 1px 2px rgba(0, 0, 0, 0.3));\n",
              "      fill: #FFFFFF;\n",
              "    }\n",
              "  </style>\n",
              "\n",
              "      <script>\n",
              "        const buttonEl =\n",
              "          document.querySelector('#df-cf7e3e14-68c7-489b-a50f-c73855bec627 button.colab-df-convert');\n",
              "        buttonEl.style.display =\n",
              "          google.colab.kernel.accessAllowed ? 'block' : 'none';\n",
              "\n",
              "        async function convertToInteractive(key) {\n",
              "          const element = document.querySelector('#df-cf7e3e14-68c7-489b-a50f-c73855bec627');\n",
              "          const dataTable =\n",
              "            await google.colab.kernel.invokeFunction('convertToInteractive',\n",
              "                                                     [key], {});\n",
              "          if (!dataTable) return;\n",
              "\n",
              "          const docLinkHtml = 'Like what you see? Visit the ' +\n",
              "            '<a target=\"_blank\" href=https://colab.research.google.com/notebooks/data_table.ipynb>data table notebook</a>'\n",
              "            + ' to learn more about interactive tables.';\n",
              "          element.innerHTML = '';\n",
              "          dataTable['output_type'] = 'display_data';\n",
              "          await google.colab.output.renderOutput(dataTable, element);\n",
              "          const docLink = document.createElement('div');\n",
              "          docLink.innerHTML = docLinkHtml;\n",
              "          element.appendChild(docLink);\n",
              "        }\n",
              "      </script>\n",
              "    </div>\n",
              "  </div>\n",
              "  "
            ]
          },
          "metadata": {},
          "execution_count": 18
        }
      ]
    },
    {
      "cell_type": "code",
      "source": [
        "test_predictions = model.predict(test_numeric_features).flatten()\n"
      ],
      "metadata": {
        "id": "WoQZaHKjU8EC"
      },
      "execution_count": 19,
      "outputs": []
    }
  ]
}